{
  "nbformat": 4,
  "nbformat_minor": 0,
  "metadata": {
    "colab": {
      "name": "Res_LU_final.ipynb",
      "provenance": [],
      "collapsed_sections": [],
      "mount_file_id": "1H4IgN8VF080O0A6_4Y6YcXGuEN2aNJbL",
      "authorship_tag": "ABX9TyPOPVtzicrCu1zLzg9ibkJB",
      "include_colab_link": true
    },
    "kernelspec": {
      "name": "python3",
      "display_name": "Python 3"
    },
    "language_info": {
      "name": "python"
    }
  },
  "cells": [
    {
      "cell_type": "markdown",
      "metadata": {
        "id": "view-in-github",
        "colab_type": "text"
      },
      "source": [
        "<a href=\"https://colab.research.google.com/github/wellalbuquerque/Resolve-um-sistema-linear-por-fatoracao-LU-com-estrategia-de-pivoteamento-parcial/blob/master/Res_LU_final.ipynb\" target=\"_parent\"><img src=\"https://colab.research.google.com/assets/colab-badge.svg\" alt=\"Open In Colab\"/></a>"
      ]
    },
    {
      "cell_type": "code",
      "metadata": {
        "id": "xoIjkReOw1ON",
        "colab": {
          "base_uri": "https://localhost:8080/"
        },
        "outputId": "5cbef914-909f-41bc-89bc-dbdfd6579af4"
      },
      "source": [
        "# encoding: utf-8\n",
        "# encoding: iso-8859-1\n",
        "# encoding: win-1252\n",
        "#Solve the system of linear equations through \n",
        "#LU factorization with the partial pivoting strategy:\n",
        "#Atividade desenvolvida para a disciplina G_EB406A_2021S1 - Cálculo Numérico\n",
        "#The University of Campinas -UNICAMP\n",
        "#A = np.array([[1,-2,7,2],[2,5,-3,1],[9,-6,4,1],[4,-3,-6,7]])=b=([-18, 31,35,15]) #\n",
        "#Desenvolvido por: José Wellington Albuquerque\n",
        "#Disponível em:\n",
        "#https://github.com/wellalbuquerque/Resolve-um-sistema-linear-por-fatoracao-LU-com-estrategia-de-pivoteamento-parcial/blob/dcf3f29b551b6d1674d523937680e654a097e80c/res_lu_final.ipynb\n",
        "\n",
        "import numpy as np\n",
        "import scipy.linalg as la\n",
        "np.set_printoptions(suppress=True)\n",
        "\n",
        "A = np.array([[1,-2,7,2],[2,5,-3,1],[9,-6,4,1],[4,-3,-6,7]])\n",
        "b = np.array([-18, 31,35,15])\n",
        "print(\"A matriz A é:\\n\\n\",+A,\"\\n\")\n",
        "\n",
        "print(\"A matriz b é: \\n\\n\",+b,\"\\n\")\n",
        "\n",
        "P, L, U = la.lu(A)\n",
        "print(np.dot(P.T, A))\n",
        "print\n",
        "print(np.dot(L, U))\n",
        "####np.dot retorna o produto escalar de duas matrizes.\n",
        "print(P)\n",
        "print(L)\n",
        "print(U)\n",
        "#implementa a resolução para X:\n",
        "from numpy.linalg import *\n",
        "import time as time\n",
        "\n",
        "A = np.array([[1, -2, 7,2], [2, 5, -3,1], [9, -6, 4,1],[4, -3, -6,7]]);\n",
        "b = np.array([-18, 31,35,15])\n",
        "\n",
        "start = time.time()\n",
        "x = solve(A, b); \n",
        "ttaken = time.time()-start\n",
        "\n",
        "print('\\n A solução para X é de aproximadamente:\\n\\n %s \\n\\n Calculado em apenas %f segundos!\\n\\n' % (x, ttaken))\n",
        "# Imprime a solução para X e retorna o tempo de processamento do calculo no Colab!"
      ],
      "execution_count": 11,
      "outputs": [
        {
          "output_type": "stream",
          "text": [
            "A matriz A é:\n",
            "\n",
            " [[ 1 -2  7  2]\n",
            " [ 2  5 -3  1]\n",
            " [ 9 -6  4  1]\n",
            " [ 4 -3 -6  7]] \n",
            "\n",
            "A matriz b é: \n",
            "\n",
            " [-18  31  35  15] \n",
            "\n",
            "[[ 9. -6.  4.  1.]\n",
            " [ 2.  5. -3.  1.]\n",
            " [ 4. -3. -6.  7.]\n",
            " [ 1. -2.  7.  2.]]\n",
            "[[ 9. -6.  4.  1.]\n",
            " [ 2.  5. -3.  1.]\n",
            " [ 4. -3. -6.  7.]\n",
            " [ 1. -2.  7.  2.]]\n",
            "[[0. 0. 0. 1.]\n",
            " [0. 1. 0. 0.]\n",
            " [1. 0. 0. 0.]\n",
            " [0. 0. 1. 0.]]\n",
            "[[ 1.          0.          0.          0.        ]\n",
            " [ 0.22222222  1.          0.          0.        ]\n",
            " [ 0.44444444 -0.05263158  1.          0.        ]\n",
            " [ 0.11111111 -0.21052632 -0.71868132  1.        ]]\n",
            "[[ 9.         -6.          4.          1.        ]\n",
            " [ 0.          6.33333333 -3.88888889  0.77777778]\n",
            " [ 0.          0.         -7.98245614  6.59649123]\n",
            " [ 0.          0.          0.          6.79340659]]\n",
            "\n",
            " A solução para X é de aproximadamente:\n",
            "\n",
            " [ 6.87609188  2.68003882 -2.09317373 -2.43189906] \n",
            "\n",
            " Calculado em apenas 0.000163 segundos!\n",
            "\n",
            "\n"
          ],
          "name": "stdout"
        }
      ]
    },
    {
      "cell_type": "code",
      "metadata": {
        "id": "6DFoBdyZRz7i"
      },
      "source": [
        "# Lembre-se de conectar seu Google Drive ao Colab para evitar este erros como este:\n",
        "#\"[Errno 2] No such file or directory: '/content/drive/MyDrive/Colab Notebooks/'/content\"\n",
        "%cd /content/drive/MyDrive/Colab Notebooks/\n",
        "# comando para entrar no diretório do driver %cd seu /diretorio/Colab Notebooks/"
      ],
      "execution_count": null,
      "outputs": []
    },
    {
      "cell_type": "code",
      "metadata": {
        "id": "vLXqhwCG1Eyb"
      },
      "source": [
        "#Install Latex.\n",
        "!sudo apt-get install texlive-xetex texlive-fonts-recommended texlive-generic-recommended\n",
        "\n",
        "!jupyter nbconvert --to html Res_LU_final.ipynb\n",
        "\n",
        "#Converte e exporta de *.ipynb para *.html e PDF e salva em seu Google Drive!!!\n",
        "!jupyter nbconvert --to pdf Res_LU_final.ipynb"
      ],
      "execution_count": null,
      "outputs": []
    }
  ]
}